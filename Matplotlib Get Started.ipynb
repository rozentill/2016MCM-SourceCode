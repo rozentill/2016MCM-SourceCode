{
 "cells": [
  {
   "cell_type": "code",
   "execution_count": 1,
   "metadata": {
    "collapsed": true
   },
   "outputs": [],
   "source": [
    "import numpy as np"
   ]
  },
  {
   "cell_type": "code",
   "execution_count": 2,
   "metadata": {
    "collapsed": false
   },
   "outputs": [],
   "source": [
    "import matplotlib.pyplot as plt"
   ]
  },
  {
   "cell_type": "code",
   "execution_count": 3,
   "metadata": {
    "collapsed": true
   },
   "outputs": [],
   "source": [
    "n = 1024\n",
    "X = np.random.normal(0,1,n)\n",
    "Y = np.random.normal(0,1,n)"
   ]
  },
  {
   "cell_type": "code",
   "execution_count": 5,
   "metadata": {
    "collapsed": true
   },
   "outputs": [],
   "source": [
    "T = np.arctan2(Y,X)\n",
    "\n",
    "plt.axes([0.025,0.025,0.95,0.95])\n",
    "plt.scatter(X,Y, s=75, c=T, alpha=.5)\n",
    "\n",
    "plt.xlim(-1.5,1.5), plt.xticks([])\n",
    "plt.ylim(-1.5,1.5), plt.yticks([])\n",
    "# savefig('../figures/scatter_ex.png',dpi=48)\n",
    "plt.show()"
   ]
  },
  {
   "cell_type": "code",
   "execution_count": 4,
   "metadata": {
    "collapsed": false
   },
   "outputs": [
    {
     "data": {
      "text/plain": [
       "array([ 1.35885992,  0.88797644,  2.38522435, ..., -0.12338682,\n",
       "       -0.16629768,  0.75360285])"
      ]
     },
     "execution_count": 4,
     "metadata": {},
     "output_type": "execute_result"
    }
   ],
   "source": [
    "X"
   ]
  },
  {
   "cell_type": "code",
   "execution_count": 6,
   "metadata": {
    "collapsed": true
   },
   "outputs": [],
   "source": [
    "n = 256\n",
    "X = np.linspace(-np.pi,np.pi,n,endpoint=True)\n",
    "Y = np.sin(2*X)\n",
    "\n",
    "plt.axes([0.025,0.025,0.95,0.95])\n",
    "\n",
    "plt.plot (X, Y+1, color='blue', alpha=1.00)\n",
    "plt.fill_between(X, 1, Y+1, color='blue', alpha=.25)\n",
    "\n",
    "plt.plot (X, Y-1, color='blue', alpha=1.00)\n",
    "plt.fill_between(X, -1, Y-1, (Y-1) > -1, color='blue', alpha=.25)\n",
    "plt.fill_between(X, -1, Y-1, (Y-1) < -1, color='red',  alpha=.25)\n",
    "\n",
    "plt.xlim(-np.pi,np.pi), plt.xticks([])\n",
    "plt.ylim(-2.5,2.5), plt.yticks([])\n",
    "# savefig('../figures/plot_ex.png',dpi=48)\n",
    "plt.show()"
   ]
  },
  {
   "cell_type": "code",
   "execution_count": null,
   "metadata": {
    "collapsed": true
   },
   "outputs": [],
   "source": []
  }
 ],
 "metadata": {
  "kernelspec": {
   "display_name": "Python 2",
   "language": "python",
   "name": "python2"
  },
  "language_info": {
   "codemirror_mode": {
    "name": "ipython",
    "version": 2
   },
   "file_extension": ".py",
   "mimetype": "text/x-python",
   "name": "python",
   "nbconvert_exporter": "python",
   "pygments_lexer": "ipython2",
   "version": "2.7.10"
  }
 },
 "nbformat": 4,
 "nbformat_minor": 0
}
