{
 "cells": [
  {
   "cell_type": "code",
   "execution_count": 118,
   "metadata": {
    "collapsed": false
   },
   "outputs": [],
   "source": [
    "import matplotlib.pyplot as plt\n",
    "from scipy.optimize import leastsq\n",
    "import numpy as np\n",
    "import pandas as pd\n",
    "from sklearn import datasets, linear_model\n",
    "from sklearn.linear_model import LogisticRegression"
   ]
  },
  {
   "cell_type": "code",
   "execution_count": 119,
   "metadata": {
    "collapsed": false
   },
   "outputs": [],
   "source": [
    "year=[[2008],[2009],[2010],[2011],[2012],[2013],[2014]]\n",
    "yearall=[[2008],[2009],[2010],[2011],[2012],[2013],[2014],[2015],[2016]]\n",
    "yearShow = range(2008,2017)\n",
    "regr = linear_model.LinearRegression()"
   ]
  },
  {
   "cell_type": "code",
   "execution_count": 120,
   "metadata": {
    "collapsed": false
   },
   "outputs": [],
   "source": [
    "DE_x=[11070,6740,7800,24630,29545,36805,44465]\n",
    "DE_y=[980 \t2065 \t5 \t215 \t1115 2990,5785]\n",
    "DE_rate = []\n",
    "DE_capacity =[]\n",
    "for i in range(0,7):\n",
    "    DE_rate.append(DE_y[i]/DE_x[i])\n",
    "    DE_capacity.append(DE_x[i]-DE_y[i])\n"
   ]
  },
  {
   "cell_type": "code",
   "execution_count": 121,
   "metadata": {
    "collapsed": false
   },
   "outputs": [
    {
     "data": {
      "text/plain": [
       "[<matplotlib.lines.Line2D at 0x11284f650>]"
      ]
     },
     "execution_count": 121,
     "metadata": {},
     "output_type": "execute_result"
    }
   ],
   "source": [
    "regr.fit(year, DE_capacity)\n",
    "DE_capacity.append(regr.predict(2015))\n",
    "DE_capacity.append(regr.predict(2016))\n",
    "plt.scatter(yearShow,DE_capacity,color='blue',label=\"DE\")\n",
    "plt.plot(yearall,regr.predict(yearall),color='red',linewidth=2)"
   ]
  },
  {
   "cell_type": "code",
   "execution_count": 122,
   "metadata": {
    "collapsed": false
   },
   "outputs": [],
   "source": [
    "plt.xticks(())\n",
    "plt.yticks(())\n",
    "plt.show()"
   ]
  },
  {
   "cell_type": "code",
   "execution_count": 117,
   "metadata": {
    "collapsed": false
   },
   "outputs": [
    {
     "data": {
      "text/plain": [
       "[2775.0,\n",
       " 2295.0,\n",
       " 2465.0,\n",
       " 3365.0,\n",
       " 5025.0,\n",
       " 5960.0,\n",
       " 6995.0,\n",
       " array([ 7347.14285714]),\n",
       " array([ 8152.5])]"
      ]
     },
     "execution_count": 117,
     "metadata": {},
     "output_type": "execute_result"
    }
   ],
   "source": [
    "DE_capacity"
   ]
  },
  {
   "cell_type": "code",
   "execution_count": 50,
   "metadata": {
    "collapsed": false
   },
   "outputs": [
    {
     "data": {
      "text/plain": [
       "array([ 0.89285941])"
      ]
     },
     "execution_count": 50,
     "metadata": {},
     "output_type": "execute_result"
    }
   ],
   "source": [
    "predict_outcome"
   ]
  },
  {
   "cell_type": "code",
   "execution_count": 32,
   "metadata": {
    "collapsed": false,
    "scrolled": true
   },
   "outputs": [
    {
     "name": "stdout",
     "output_type": "stream",
     "text": [
      "768\n"
     ]
    }
   ],
   "source": [
    "print len(y)"
   ]
  },
  {
   "cell_type": "code",
   "execution_count": null,
   "metadata": {
    "collapsed": true
   },
   "outputs": [],
   "source": [
    "x1 = np.array(x)  \n",
    "y1 = np.array(y)\n",
    "\n",
    "xishu = leastsq(err, p0, args=(x1,y1))\n",
    "\n",
    "print xishu[0]"
   ]
  }
 ],
 "metadata": {
  "kernelspec": {
   "display_name": "Python 2",
   "language": "python",
   "name": "python2"
  },
  "language_info": {
   "codemirror_mode": {
    "name": "ipython",
    "version": 2
   },
   "file_extension": ".py",
   "mimetype": "text/x-python",
   "name": "python",
   "nbconvert_exporter": "python",
   "pygments_lexer": "ipython2",
   "version": "2.7.10"
  }
 },
 "nbformat": 4,
 "nbformat_minor": 0
}
