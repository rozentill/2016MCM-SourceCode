{
 "cells": [
  {
   "cell_type": "code",
   "execution_count": 2,
   "metadata": {
    "collapsed": true
   },
   "outputs": [],
   "source": [
    "import xlrd\n",
    "import numpy as np\n",
    "import matplotlib \n",
    "import matplotlib.pyplot as plt"
   ]
  },
  {
   "cell_type": "code",
   "execution_count": 3,
   "metadata": {
    "collapsed": false
   },
   "outputs": [],
   "source": [
    "dataCountry = xlrd.open_workbook('Country.xlsx')\n",
    "dataMYSR = xlrd.open_workbook('MYSR.xls')"
   ]
  },
  {
   "cell_type": "code",
   "execution_count": 4,
   "metadata": {
    "collapsed": false
   },
   "outputs": [],
   "source": [
    "tableCountry = dataCountry.sheets()[0]\n",
    "tableMYSR = dataMYSR.sheets()[10]"
   ]
  },
  {
   "cell_type": "code",
   "execution_count": 5,
   "metadata": {
    "collapsed": true
   },
   "outputs": [],
   "source": [
    "origin = []\n",
    "target = []\n",
    "origin_x=[]\n",
    "origin_y=[]\n",
    "target_x=[]\n",
    "target_y=[]\n",
    "originCountry={}\n",
    "targetCountry={}\n",
    "originNew=[]\n",
    "originNewX=[]\n",
    "originNewY=[]\n",
    "targetNew=[]\n",
    "targetNewX=[]\n",
    "targetNewY=[]"
   ]
  },
  {
   "cell_type": "code",
   "execution_count": 6,
   "metadata": {
    "collapsed": false
   },
   "outputs": [],
   "source": [
    "for i in range (11,806):\n",
    "    for j in range(2,174):\n",
    "        if tableCountry.row_values(j)[0]==tableMYSR.row_values(i)[0] and int(tableCountry.row_values(j)[3][:2])<50:\n",
    "            \n",
    "            \n",
    "            if tableCountry.row_values(j)[3][6] == 'E':\n",
    "                origin.append(tableMYSR.row_values(i)[0])\n",
    "                origin_x.append(int(tableCountry.row_values(j)[3][:2]))\n",
    "                origin_y.append(int(tableCountry.row_values(j)[2][:2]))\n",
    "            if tableCountry.row_values(j)[3][6] == 'W':\n",
    "                \n",
    "                if ~int(tableCountry.row_values(j)[3][:2]) > -40:\n",
    "                    origin.append(tableMYSR.row_values(i)[0])\n",
    "                    origin_x.append(~int(tableCountry.row_values(j)[3][:2]))\n",
    "                    origin_y.append(int(tableCountry.row_values(j)[2][:2]))\n",
    "        if tableCountry.row_values(j)[0]==tableMYSR.row_values(i)[1] and ~(tableMYSR.row_values(i)[1] in target):\n",
    "            \n",
    "            if tableCountry.row_values(j)[3][6] == 'E':\n",
    "                target.append(tableMYSR.row_values(i)[1])\n",
    "                target_x.append(int(tableCountry.row_values(j)[3][:2]))\n",
    "                target_y.append(int(tableCountry.row_values(j)[2][:2]))"
   ]
  },
  {
   "cell_type": "code",
   "execution_count": null,
   "metadata": {
    "collapsed": false
   },
   "outputs": [],
   "source": [
    "plt.scatter(origin_x,origin_y,marker='o',label=origin)\n",
    "plt.scatter(target_x,target_y,marker='x',label=target)\n",
    "plt.show()"
   ]
  },
  {
   "cell_type": "code",
   "execution_count": 78,
   "metadata": {
    "collapsed": false
   },
   "outputs": [
    {
     "data": {
      "text/plain": [
       "{'x': 3}"
      ]
     },
     "execution_count": 78,
     "metadata": {},
     "output_type": "execute_result"
    }
   ],
   "source": [
    "p={}\n",
    "a='x'\n",
    "p[a]=3\n",
    "p"
   ]
  },
  {
   "cell_type": "code",
   "execution_count": 15,
   "metadata": {
    "collapsed": false
   },
   "outputs": [
    {
     "name": "stdout",
     "output_type": "stream",
     "text": [
      "3\n"
     ]
    }
   ],
   "source": [
    "print len([1,2,3])"
   ]
  },
  {
   "cell_type": "code",
   "execution_count": 103,
   "metadata": {
    "collapsed": false
   },
   "outputs": [
    {
     "name": "stdout",
     "output_type": "stream",
     "text": [
      "342\n"
     ]
    }
   ],
   "source": [
    "print len(origin)"
   ]
  },
  {
   "cell_type": "code",
   "execution_count": 7,
   "metadata": {
    "collapsed": false
   },
   "outputs": [],
   "source": [
    "for i in range(0,342):\n",
    "    if origin[i] in originNew:\n",
    "        continue\n",
    "    else:\n",
    "        originNew.append(origin[i])\n",
    "        originNewX.append(origin_x[i])\n",
    "        originNewY.append(origin_y[i])\n",
    "    if target[i] in targetNew:\n",
    "        continue\n",
    "    else:\n",
    "        targetNew.append(target[i])\n",
    "        targetNewX.append(target_x[i])\n",
    "        targetNewY.append(target_y[i])"
   ]
  },
  {
   "cell_type": "code",
   "execution_count": 7,
   "metadata": {
    "collapsed": false
   },
   "outputs": [
    {
     "name": "stdout",
     "output_type": "stream",
     "text": [
      "Albania 19 41\n",
      "Algeria 3 36\n",
      "Angola 13 8\n",
      "Armenia 44 40\n",
      "Azerbaijan 49 40\n",
      "Belarus 27 53\n",
      "Benin 2 6\n",
      "Bosnia and Herzegovina 18 43\n",
      "Burkina Faso -2 12\n",
      "Burundi 29 3\n",
      "Cameroon 11 3\n",
      "Chad 14 12\n",
      "Congo 15 4\n",
      "Egypt 31 30\n",
      "Eritrea 38 15\n",
      "Ethiopia 38 9\n",
      "Gambia -17 13\n",
      "Georgia 44 41\n",
      "Ghana -1 5\n",
      "Guinea -14 9\n",
      "Guinea-Bissau -16 11\n",
      "Hungary 19 47\n",
      "Iraq 44 33\n",
      "Jordan 35 31\n",
      "Kenya 36 1\n",
      "Lebanon 35 33\n",
      "Lesotho 27 29\n",
      "Malawi 33 14\n",
      "Mali -8 12\n",
      "Mozambique 32 25\n",
      "Nigeria 7 9\n",
      "Russian Federation 37 55\n",
      "Senegal -18 14\n",
      "Sierra Leone -14 8\n",
      "Slovakia 17 48\n",
      "Somalia 45 2\n",
      "South Africa 28 25\n",
      "Sudan 32 15\n"
     ]
    }
   ],
   "source": [
    "for i in range(0,38):\n",
    "    print originNew[i],originNewX[i],originNewY[i]"
   ]
  },
  {
   "cell_type": "code",
   "execution_count": 13,
   "metadata": {
    "collapsed": false
   },
   "outputs": [
    {
     "name": "stdout",
     "output_type": "stream",
     "text": [
      "16\n"
     ]
    }
   ],
   "source": [
    "print len(targetNew)"
   ]
  },
  {
   "cell_type": "code",
   "execution_count": 8,
   "metadata": {
    "collapsed": false
   },
   "outputs": [
    {
     "name": "stdout",
     "output_type": "stream",
     "text": [
      "Austria 16 48\n",
      "Norway 10 59\n",
      "France 2 48\n",
      "Italy 12 41\n",
      "Germany 13 52\n",
      "South Africa 28 25\n",
      "Belgium 4 50\n",
      "Egypt 31 30\n",
      "Israel 35 31\n",
      "Lebanon 35 33\n",
      "Poland 21 52\n",
      "Hungary 19 47\n",
      "Georgia 44 41\n",
      "Jordan 35 31\n",
      "Netherlands 4 52\n",
      "Bulgaria 23 42\n"
     ]
    }
   ],
   "source": [
    "for i in range(0,16):\n",
    "    print targetNew[i],targetNewX[i],targetNewY[i]"
   ]
  },
  {
   "cell_type": "code",
   "execution_count": 31,
   "metadata": {
    "collapsed": false
   },
   "outputs": [
    {
     "data": {
      "text/plain": [
       "<matplotlib.collections.PathCollection at 0x11188c2d0>"
      ]
     },
     "execution_count": 31,
     "metadata": {},
     "output_type": "execute_result"
    }
   ],
   "source": [
    "plt.scatter(69,34,marker='o',label=\"Afghanistan\")\n",
    "plt.scatter(36,33,marker='o',label='Syria')\n",
    "# plt.scatter(51,35,marker='o',label=\"Iran\")\n",
    "for i in range(0,38):\n",
    "    if originNew[i] == \"Iraq\":\n",
    "        plt.scatter(originNewX[i],originNewY[i],marker='o',label=\"Iraq\")\n",
    "        \n",
    "        \n",
    "    if originNew[i] == \"Eritrea\":\n",
    "        plt.scatter(originNewX[i],originNewY[i],marker='o',label=\"Eritrea\")\n",
    "\n",
    "for i in range(0,16):\n",
    "#     if targetNew[i] == \"Belgium\":\n",
    "#         plt.scatter(targetNewX[i],targetNewY[i],marker='x',label=\"Belgium\")b\n",
    "    if targetNew[i] == \"Germany\":\n",
    "        plt.scatter(targetNewX[i],targetNewY[i],marker='x',label=\"Germany\")\n",
    "    if targetNew[i] == \"Italy\":\n",
    "        plt.scatter(targetNewX[i],targetNewY[i],marker='x',label=\"Italy\")\n",
    "    if targetNew[i] == \"France\":\n",
    "        plt.scatter(targetNewX[i],targetNewY[i],marker='x',label=\"France\")\n",
    "    if targetNew[i] == \"Hungary\":\n",
    "        plt.scatter(targetNewX[i],targetNewY[i],marker='x',label=\"Hungary\")\n",
    "    if targetNew[i] == \"Austria\":\n",
    "        plt.scatter(targetNewX[i],targetNewY[i],marker='x',label=\"Austria\")\n",
    "        \n",
    "plt.scatter(0,51,marker='x',label=\"UK\")\n",
    "# plt.scatter(7,46,marker='x',label=\"Switzerland\")\n",
    "plt.scatter(23,37,marker='x',label=\"Greece\")\n",
    "plt.scatter(-3,40,marker='+',label=\"Spain\")\n",
    "plt.scatter(32,39,marker='+',label=\"Turkey\")\n",
    "plt.scatter(10,36,marker='+',label=\"Tunisia\")\n",
    "plt.scatter(31,30,marker='+',label=\"Egypt\")\n",
    "plt.scatter(18,59,marker='x',label='Sweden')\n",
    "plt.scatter(-6,34,marker='+',label='Morocco')"
   ]
  },
  {
   "cell_type": "code",
   "execution_count": 32,
   "metadata": {
    "collapsed": true
   },
   "outputs": [],
   "source": [
    "plt.show()"
   ]
  },
  {
   "cell_type": "code",
   "execution_count": 25,
   "metadata": {
    "collapsed": false
   },
   "outputs": [
    {
     "data": {
      "text/plain": [
       "<matplotlib.figure.Figure at 0x10675cbd0>"
      ]
     },
     "execution_count": 25,
     "metadata": {},
     "output_type": "execute_result"
    }
   ],
   "source": [
    "plt.figure()"
   ]
  },
  {
   "cell_type": "code",
   "execution_count": 57,
   "metadata": {
    "collapsed": false
   },
   "outputs": [],
   "source": [
    "ox=[69,36,44,38]\n",
    "oy=[34,33,33,15]\n",
    "xx=[13,12,2,19,16,0,23,18]\n",
    "xy=[52,41,48,47,48,51,37,59]\n",
    "jx=[-3,32,10,31,-6,19]\n",
    "jy=[40,39,36,30,34,41]\n",
    "plt.scatter(ox,oy,marker='o',color='m',label='origin',s=40)\n",
    "plt.scatter(xx,xy,marker='*',color='r',label='arrival',s=40)\n",
    "plt.scatter(jx,jy,marker='^',color='c',label='transmit',s=30)\n",
    "plt.plot([69,44,36,38,-6,10,31,36,32,19,19,16,12,2,16,13,18],[34,33,33,15,34,36,30,33,39,41,47,48,41,48,48,52,59],'y')\n",
    "plt.plot([-3,2],[40,48],'y')\n",
    "plt.plot([69,19],[34,47],'y')\n",
    "plt.plot([19,23],[41,37],'y')\n",
    "plt.plot([-6,-3],[34,40],'b--')\n",
    "plt.plot([0,2],[51,48],'b--')\n",
    "plt.plot([10,12],[36,41],'b--')\n",
    "plt.plot([31,23],[30,37],'b--')\n",
    "plt.plot([31,12],[30,41],'b--')\n",
    "plt.xlabel('longitude')\n",
    "plt.ylabel('latitude')\n",
    "plt.legend(loc = 'upper right')  \n",
    "plt.show()"
   ]
  },
  {
   "cell_type": "code",
   "execution_count": null,
   "metadata": {
    "collapsed": true
   },
   "outputs": [],
   "source": []
  }
 ],
 "metadata": {
  "kernelspec": {
   "display_name": "Python 2",
   "language": "python",
   "name": "python2"
  },
  "language_info": {
   "codemirror_mode": {
    "name": "ipython",
    "version": 2
   },
   "file_extension": ".py",
   "mimetype": "text/x-python",
   "name": "python",
   "nbconvert_exporter": "python",
   "pygments_lexer": "ipython2",
   "version": "2.7.10"
  }
 },
 "nbformat": 4,
 "nbformat_minor": 0
}
